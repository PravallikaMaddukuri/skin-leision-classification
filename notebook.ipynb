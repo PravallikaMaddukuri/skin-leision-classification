{
  "nbformat": 4,
  "nbformat_minor": 0,
  "metadata": {
    "kernelspec": {
      "display_name": "Python 3",
      "language": "python",
      "name": "python3"
    },
    "language_info": {
      "codemirror_mode": {
        "name": "ipython",
        "version": 3
      },
      "file_extension": ".py",
      "mimetype": "text/x-python",
      "name": "python",
      "nbconvert_exporter": "python",
      "pygments_lexer": "ipython3",
      "version": "3.7.6"
    },
    "colab": {
      "name": "notebook.ipynb",
      "provenance": [],
      "collapsed_sections": [],
      "toc_visible": true
    },
    "widgets": {
      "application/vnd.jupyter.widget-state+json": {
        "f4e0cd9070c149429dd8b5933cb38974": {
          "model_module": "@jupyter-widgets/controls",
          "model_name": "HBoxModel",
          "state": {
            "_view_name": "HBoxView",
            "_dom_classes": [],
            "_model_name": "HBoxModel",
            "_view_module": "@jupyter-widgets/controls",
            "_model_module_version": "1.5.0",
            "_view_count": null,
            "_view_module_version": "1.5.0",
            "box_style": "",
            "layout": "IPY_MODEL_d0b51454d27c45c3bebdef9fcce55bac",
            "_model_module": "@jupyter-widgets/controls",
            "children": [
              "IPY_MODEL_f68a80b4ac3548d99027f847bc12e318",
              "IPY_MODEL_064d9fb0a5214587bc5fac4ee5e49cc8"
            ]
          }
        },
        "d0b51454d27c45c3bebdef9fcce55bac": {
          "model_module": "@jupyter-widgets/base",
          "model_name": "LayoutModel",
          "state": {
            "_view_name": "LayoutView",
            "grid_template_rows": null,
            "right": null,
            "justify_content": null,
            "_view_module": "@jupyter-widgets/base",
            "overflow": null,
            "_model_module_version": "1.2.0",
            "_view_count": null,
            "flex_flow": null,
            "width": null,
            "min_width": null,
            "border": null,
            "align_items": null,
            "bottom": null,
            "_model_module": "@jupyter-widgets/base",
            "top": null,
            "grid_column": null,
            "overflow_y": null,
            "overflow_x": null,
            "grid_auto_flow": null,
            "grid_area": null,
            "grid_template_columns": null,
            "flex": null,
            "_model_name": "LayoutModel",
            "justify_items": null,
            "grid_row": null,
            "max_height": null,
            "align_content": null,
            "visibility": null,
            "align_self": null,
            "height": null,
            "min_height": null,
            "padding": null,
            "grid_auto_rows": null,
            "grid_gap": null,
            "max_width": null,
            "order": null,
            "_view_module_version": "1.2.0",
            "grid_template_areas": null,
            "object_position": null,
            "object_fit": null,
            "grid_auto_columns": null,
            "margin": null,
            "display": null,
            "left": null
          }
        },
        "f68a80b4ac3548d99027f847bc12e318": {
          "model_module": "@jupyter-widgets/controls",
          "model_name": "FloatProgressModel",
          "state": {
            "_view_name": "ProgressView",
            "style": "IPY_MODEL_460e749dadc84fd39117b83f09eb26a1",
            "_dom_classes": [],
            "description": "100%",
            "_model_name": "FloatProgressModel",
            "bar_style": "success",
            "max": 108857766,
            "_view_module": "@jupyter-widgets/controls",
            "_model_module_version": "1.5.0",
            "value": 108857766,
            "_view_count": null,
            "_view_module_version": "1.5.0",
            "orientation": "horizontal",
            "min": 0,
            "description_tooltip": null,
            "_model_module": "@jupyter-widgets/controls",
            "layout": "IPY_MODEL_4d2ba51dd3f44960bd4435c5e31051f6"
          }
        },
        "064d9fb0a5214587bc5fac4ee5e49cc8": {
          "model_module": "@jupyter-widgets/controls",
          "model_name": "HTMLModel",
          "state": {
            "_view_name": "HTMLView",
            "style": "IPY_MODEL_632d11530a62426a81423c180b5f4053",
            "_dom_classes": [],
            "description": "",
            "_model_name": "HTMLModel",
            "placeholder": "​",
            "_view_module": "@jupyter-widgets/controls",
            "_model_module_version": "1.5.0",
            "value": " 104M/104M [00:13&lt;00:00, 8.11MB/s]",
            "_view_count": null,
            "_view_module_version": "1.5.0",
            "description_tooltip": null,
            "_model_module": "@jupyter-widgets/controls",
            "layout": "IPY_MODEL_2807ae9d28c54f86992a77ac54ec3995"
          }
        },
        "460e749dadc84fd39117b83f09eb26a1": {
          "model_module": "@jupyter-widgets/controls",
          "model_name": "ProgressStyleModel",
          "state": {
            "_view_name": "StyleView",
            "_model_name": "ProgressStyleModel",
            "description_width": "initial",
            "_view_module": "@jupyter-widgets/base",
            "_model_module_version": "1.5.0",
            "_view_count": null,
            "_view_module_version": "1.2.0",
            "bar_color": null,
            "_model_module": "@jupyter-widgets/controls"
          }
        },
        "4d2ba51dd3f44960bd4435c5e31051f6": {
          "model_module": "@jupyter-widgets/base",
          "model_name": "LayoutModel",
          "state": {
            "_view_name": "LayoutView",
            "grid_template_rows": null,
            "right": null,
            "justify_content": null,
            "_view_module": "@jupyter-widgets/base",
            "overflow": null,
            "_model_module_version": "1.2.0",
            "_view_count": null,
            "flex_flow": null,
            "width": null,
            "min_width": null,
            "border": null,
            "align_items": null,
            "bottom": null,
            "_model_module": "@jupyter-widgets/base",
            "top": null,
            "grid_column": null,
            "overflow_y": null,
            "overflow_x": null,
            "grid_auto_flow": null,
            "grid_area": null,
            "grid_template_columns": null,
            "flex": null,
            "_model_name": "LayoutModel",
            "justify_items": null,
            "grid_row": null,
            "max_height": null,
            "align_content": null,
            "visibility": null,
            "align_self": null,
            "height": null,
            "min_height": null,
            "padding": null,
            "grid_auto_rows": null,
            "grid_gap": null,
            "max_width": null,
            "order": null,
            "_view_module_version": "1.2.0",
            "grid_template_areas": null,
            "object_position": null,
            "object_fit": null,
            "grid_auto_columns": null,
            "margin": null,
            "display": null,
            "left": null
          }
        },
        "632d11530a62426a81423c180b5f4053": {
          "model_module": "@jupyter-widgets/controls",
          "model_name": "DescriptionStyleModel",
          "state": {
            "_view_name": "StyleView",
            "_model_name": "DescriptionStyleModel",
            "description_width": "",
            "_view_module": "@jupyter-widgets/base",
            "_model_module_version": "1.5.0",
            "_view_count": null,
            "_view_module_version": "1.2.0",
            "_model_module": "@jupyter-widgets/controls"
          }
        },
        "2807ae9d28c54f86992a77ac54ec3995": {
          "model_module": "@jupyter-widgets/base",
          "model_name": "LayoutModel",
          "state": {
            "_view_name": "LayoutView",
            "grid_template_rows": null,
            "right": null,
            "justify_content": null,
            "_view_module": "@jupyter-widgets/base",
            "overflow": null,
            "_model_module_version": "1.2.0",
            "_view_count": null,
            "flex_flow": null,
            "width": null,
            "min_width": null,
            "border": null,
            "align_items": null,
            "bottom": null,
            "_model_module": "@jupyter-widgets/base",
            "top": null,
            "grid_column": null,
            "overflow_y": null,
            "overflow_x": null,
            "grid_auto_flow": null,
            "grid_area": null,
            "grid_template_columns": null,
            "flex": null,
            "_model_name": "LayoutModel",
            "justify_items": null,
            "grid_row": null,
            "max_height": null,
            "align_content": null,
            "visibility": null,
            "align_self": null,
            "height": null,
            "min_height": null,
            "padding": null,
            "grid_auto_rows": null,
            "grid_gap": null,
            "max_width": null,
            "order": null,
            "_view_module_version": "1.2.0",
            "grid_template_areas": null,
            "object_position": null,
            "object_fit": null,
            "grid_auto_columns": null,
            "margin": null,
            "display": null,
            "left": null
          }
        }
      }
    }
  },
  "cells": [
    {
      "cell_type": "code",
      "metadata": {
        "colab": {
          "base_uri": "https://localhost:8080/"
        },
        "id": "kpiS9HAIjfM-",
        "outputId": "f5b5b849-6863-4e91-a7dc-f5282e11298a"
      },
      "source": [
        "from google.colab import drive\n",
        "drive.mount('/content/drive')"
      ],
      "execution_count": 1,
      "outputs": [
        {
          "output_type": "stream",
          "text": [
            "Mounted at /content/drive\n"
          ],
          "name": "stdout"
        }
      ]
    },
    {
      "cell_type": "code",
      "metadata": {
        "id": "_kLDmYl8jv_t"
      },
      "source": [
        "import sys\n",
        "sys.path.append('/content/drive/MyDrive/Skin-classification')"
      ],
      "execution_count": 3,
      "outputs": []
    },
    {
      "cell_type": "code",
      "metadata": {
        "id": "OJb3Dq7zjZnN"
      },
      "source": [
        "import os\n",
        "import random\n",
        "import requests\n",
        "import time\n",
        "import ast\n",
        "import numpy as np\n",
        "from glob import glob\n",
        "import cv2                \n",
        "from PIL import Image, ImageFile \n",
        "import time\n",
        "from collections import OrderedDict \n",
        "import csv\n",
        "import pandas as pd\n",
        "import sys\n",
        "import itertools\n",
        "import torch\n",
        "import torchvision\n",
        "from torchvision import datasets\n",
        "import torchvision.transforms as transforms\n",
        "import torch.nn as nn\n",
        "import torch.nn.functional as F\n",
        "import torch.optim as optim\n",
        "from torchvision import models\n",
        "import torchvision.models as models\n",
        "\n",
        "import time\n",
        "\n",
        "import matplotlib.pyplot as plt                        \n",
        "%matplotlib inline\n",
        "\n",
        "ImageFile.LOAD_TRUNCATED_IMAGES = True\n",
        "\n",
        "# check if CUDA is available\n",
        "use_cuda = torch.cuda.is_available()\n",
        "\n",
        "#pip install torchsummary\n",
        "from torchsummary import summary\n",
        "\n",
        "import Helper"
      ],
      "execution_count": 4,
      "outputs": []
    },
    {
      "cell_type": "markdown",
      "metadata": {
        "id": "zQ5MnuM5jZnX"
      },
      "source": [
        "# Explore data"
      ]
    },
    {
      "cell_type": "code",
      "metadata": {
        "colab": {
          "base_uri": "https://localhost:8080/"
        },
        "id": "RjFZjgODjZnY",
        "outputId": "0f5bfb77-8c43-40b8-d9ad-c6b4b5dc487f"
      },
      "source": [
        "train_dir = [\"/content/drive/MyDrive/Skin-classification/data/train/melanoma\", \n",
        "               \"/content/drive/MyDrive/Skin-classification/data/train/nevus\",\n",
        "               \"/content/drive/MyDrive/Skin-classification/data/train/seborrheic_keratosis\"]\n",
        "\n",
        "test_dir = [\"/content/drive/MyDrive/Skin-classification/data/test/melanoma\", \n",
        "              \"/content/drive/MyDrive/Skin-classification/data/test/nevus\",\n",
        "              \"/content/drive/MyDrive/Skin-classification/data/test/seborrheic_keratosis\"]\n",
        "\n",
        "def get_images_paths(directory, n_per_class):\n",
        "  img_paths = []\n",
        "  for i in range(3):\n",
        "    cont = 1\n",
        "    for file in glob(directory[i]+\"/*.jpg\"):\n",
        "      img_paths.append(file)\n",
        "      if cont == n_per_class:\n",
        "        break\n",
        "      cont +=1 \n",
        "  return img_paths\n",
        "\n",
        "# Get a sample of 15 training images (5 for each class)\n",
        "img_paths = get_images_paths(train_dir, 5)\n",
        "print(len(img_paths))\n",
        "print(img_paths)\n"
      ],
      "execution_count": 5,
      "outputs": [
        {
          "output_type": "stream",
          "text": [
            "15\n",
            "['/content/drive/MyDrive/Skin-classification/data/train/melanoma/ISIC_0000002.jpg', '/content/drive/MyDrive/Skin-classification/data/train/melanoma/ISIC_0000004.jpg', '/content/drive/MyDrive/Skin-classification/data/train/melanoma/ISIC_0000013.jpg', '/content/drive/MyDrive/Skin-classification/data/train/melanoma/ISIC_0000022.jpg', '/content/drive/MyDrive/Skin-classification/data/train/melanoma/ISIC_0000026.jpg', '/content/drive/MyDrive/Skin-classification/data/train/nevus/ISIC_0000000.jpg', '/content/drive/MyDrive/Skin-classification/data/train/nevus/ISIC_0000001.jpg', '/content/drive/MyDrive/Skin-classification/data/train/nevus/ISIC_0000003.jpg', '/content/drive/MyDrive/Skin-classification/data/train/nevus/ISIC_0000006.jpg', '/content/drive/MyDrive/Skin-classification/data/train/nevus/ISIC_0000007.jpg', '/content/drive/MyDrive/Skin-classification/data/train/seborrheic_keratosis/ISIC_0012103.jpg', '/content/drive/MyDrive/Skin-classification/data/train/seborrheic_keratosis/ISIC_0012170.jpg', '/content/drive/MyDrive/Skin-classification/data/train/seborrheic_keratosis/ISIC_0012214.jpg', '/content/drive/MyDrive/Skin-classification/data/train/seborrheic_keratosis/ISIC_0012155.jpg', '/content/drive/MyDrive/Skin-classification/data/train/seborrheic_keratosis/ISIC_0012224.jpg']\n"
          ],
          "name": "stdout"
        }
      ]
    },
    {
      "cell_type": "markdown",
      "metadata": {
        "id": "a5CixvRsjZna"
      },
      "source": [
        "# Image vizualization"
      ]
    },
    {
      "cell_type": "code",
      "metadata": {
        "colab": {
          "base_uri": "https://localhost:8080/"
        },
        "id": "M6Wf0zvBjZnb",
        "outputId": "0da027ea-539d-40ac-b31e-28c1d95f1215"
      },
      "source": [
        "images = []\n",
        "for path in img_paths: \n",
        "  image = cv2.imread(path)\n",
        "  image = cv2.cvtColor(image, cv2.COLOR_BGR2RGB)\n",
        "  images.append(image)\n",
        "\n",
        "# Check if images has the same shape\n",
        "for i in range(len(images)):\n",
        "  print(\"image: \", i, \" has shape: \", images[i].shape)"
      ],
      "execution_count": 6,
      "outputs": [
        {
          "output_type": "stream",
          "text": [
            "image:  0  has shape:  (767, 1022, 3)\n",
            "image:  1  has shape:  (767, 1022, 3)\n",
            "image:  2  has shape:  (767, 1022, 3)\n",
            "image:  3  has shape:  (1129, 1504, 3)\n",
            "image:  4  has shape:  (1129, 1504, 3)\n",
            "image:  5  has shape:  (767, 1022, 3)\n",
            "image:  6  has shape:  (767, 1022, 3)\n",
            "image:  7  has shape:  (767, 1022, 3)\n",
            "image:  8  has shape:  (767, 1022, 3)\n",
            "image:  9  has shape:  (767, 1022, 3)\n",
            "image:  10  has shape:  (2000, 3008, 3)\n",
            "image:  11  has shape:  (2000, 3008, 3)\n",
            "image:  12  has shape:  (2000, 3008, 3)\n",
            "image:  13  has shape:  (2000, 3008, 3)\n",
            "image:  14  has shape:  (2848, 4288, 3)\n"
          ],
          "name": "stdout"
        }
      ]
    },
    {
      "cell_type": "code",
      "metadata": {
        "colab": {
          "base_uri": "https://localhost:8080/",
          "height": 285
        },
        "id": "nuv272s2jZnb",
        "outputId": "f6b1503a-ebc4-4e0c-873a-fbf214536640"
      },
      "source": [
        "# Visualize images\n",
        "index = 4\n",
        "\n",
        "fig = plt.figure()\n",
        "ax1 = fig.add_subplot(111)\n",
        "ax1.set_xticks([])\n",
        "ax1.set_yticks([])\n",
        "\n",
        "ax1.set_title(img_paths[index])\n",
        "ax1.imshow(images[index])"
      ],
      "execution_count": 7,
      "outputs": [
        {
          "output_type": "execute_result",
          "data": {
            "text/plain": [
              "<matplotlib.image.AxesImage at 0x7fa3eac66c88>"
            ]
          },
          "metadata": {
            "tags": []
          },
          "execution_count": 7
        },
        {
          "output_type": "display_data",
          "data": {
            "image/png": "[encoded data removed]",
            "text/plain": [
              "<Figure size 432x288 with 1 Axes>"
            ]
          },
          "metadata": {
            "tags": []
          }
        }
      ]
    },
    {
      "cell_type": "markdown",
      "metadata": {
        "id": "RkX1KmXhjZnc"
      },
      "source": [
        "Check model architecture for transfer learning"
      ]
    },
    {
      "cell_type": "code",
      "metadata": {
        "colab": {
          "base_uri": "https://localhost:8080/",
          "height": 103,
          "referenced_widgets": [
            "f4e0cd9070c149429dd8b5933cb38974",
            "d0b51454d27c45c3bebdef9fcce55bac",
            "f68a80b4ac3548d99027f847bc12e318",
            "064d9fb0a5214587bc5fac4ee5e49cc8",
            "460e749dadc84fd39117b83f09eb26a1",
            "4d2ba51dd3f44960bd4435c5e31051f6",
            "632d11530a62426a81423c180b5f4053",
            "2807ae9d28c54f86992a77ac54ec3995"
          ]
        },
        "id": "2s2pob0QjZnc",
        "outputId": "539d8d3d-4660-4331-87db-aeeae8321dec"
      },
      "source": [
        "model = models.inception_v3(pretrained=True)"
      ],
      "execution_count": 8,
      "outputs": [
        {
          "output_type": "stream",
          "text": [
            "Downloading: \"https://download.pytorch.org/models/inception_v3_google-1a9a5a14.pth\" to /root/.cache/torch/hub/checkpoints/inception_v3_google-1a9a5a14.pth\n"
          ],
          "name": "stderr"
        },
        {
          "output_type": "display_data",
          "data": {
            "application/vnd.jupyter.widget-view+json": {
              "model_id": "f4e0cd9070c149429dd8b5933cb38974",
              "version_minor": 0,
              "version_major": 2
            },
            "text/plain": [
              "HBox(children=(FloatProgress(value=0.0, max=108857766.0), HTML(value='')))"
            ]
          },
          "metadata": {
            "tags": []
          }
        },
        {
          "output_type": "stream",
          "text": [
            "\n"
          ],
          "name": "stdout"
        }
      ]
    },
    {
      "cell_type": "markdown",
      "metadata": {
        "id": "ZQAbFKCqjZnd"
      },
      "source": [
        "## Load data"
      ]
    },
    {
      "cell_type": "code",
      "metadata": {
        "id": "H5LTQTmQjZnd"
      },
      "source": [
        "root_path = \"/content/drive/MyDrive/Skin-classification/data/\"\n",
        "\n",
        "# With data augmentation\n",
        "train_transforms = transforms.Compose([transforms.Resize((350,350)),\n",
        "                                       transforms.CenterCrop(299),\n",
        "                                       transforms.RandomRotation(0, 359),\n",
        "                                       transforms.RandomVerticalFlip(0.5),\n",
        "                                       transforms.ToTensor(),\n",
        "                                       transforms.Normalize([0.485, 0.456, 0.406], [0.229, 0.224, 0.225])])\n",
        "\n",
        "valid_transforms = transforms.Compose([transforms.Resize((300,300)),\n",
        "                                       transforms.CenterCrop(299),\n",
        "                                       transforms.ToTensor(),\n",
        "                                       transforms.Normalize([0.485, 0.456, 0.406], [0.229, 0.224, 0.225])])\n",
        "\n",
        "test_transforms = valid_transforms\n",
        "\n",
        "train_data = datasets.ImageFolder(root_path+'train', transform=train_transforms)\n",
        "valid_data = datasets.ImageFolder(root_path+'vaild', transform=valid_transforms)\n",
        "test_data = datasets.ImageFolder(root_path+'test', transform=test_transforms)\n",
        "\n",
        "trainloader = torch.utils.data.DataLoader(train_data, batch_size=64, shuffle=True)\n",
        "validloader = torch.utils.data.DataLoader(valid_data, batch_size=32)\n",
        "testloader = torch.utils.data.DataLoader(test_data, batch_size=32)"
      ],
      "execution_count": 11,
      "outputs": []
    },
    {
      "cell_type": "code",
      "metadata": {
        "colab": {
          "base_uri": "https://localhost:8080/",
          "height": 265
        },
        "id": "dkXy1I2-jZne",
        "outputId": "124622be-7ea1-4fba-9b57-a637026b07a0"
      },
      "source": [
        "# Visualize different training images\n",
        "import numpy as np \n",
        "\n",
        "def imshow(image, ax=None, title=None, normalize=True):\n",
        "  \"\"\"Imshow for Tensor.\"\"\"\n",
        "  if ax is None:\n",
        "    fig, ax = plt.subplots()\n",
        "  image = image.numpy().transpose((1, 2, 0))\n",
        "  \n",
        "  if normalize:\n",
        "    mean = np.array([0.485, 0.456, 0.406])\n",
        "    std = np.array([0.229, 0.224, 0.225])\n",
        "    image = std * image + mean\n",
        "    image = np.clip(image, 0, 1)\n",
        "    \n",
        "  ax.imshow(image)\n",
        "  ax.spines['top'].set_visible(False)\n",
        "  ax.spines['right'].set_visible(False)\n",
        "  ax.spines['left'].set_visible(False)\n",
        "  ax.spines['bottom'].set_visible(False)\n",
        "  ax.tick_params(axis='both', length=0)\n",
        "  ax.set_xticklabels('')\n",
        "  ax.set_yticklabels('')\n",
        "  return ax\n",
        "\n",
        "images, labels = next(iter(trainloader))\n",
        "imshow(images[7])"
      ],
      "execution_count": 12,
      "outputs": [
        {
          "output_type": "execute_result",
          "data": {
            "text/plain": [
              "<matplotlib.axes._subplots.AxesSubplot at 0x7fa3e81bd5c0>"
            ]
          },
          "metadata": {
            "tags": []
          },
          "execution_count": 12
        },
        {
          "output_type": "display_data",
          "data": {
            "image/png": "[encoded data removed]",
            "text/plain": [
              "<Figure size 432x288 with 1 Axes>"
            ]
          },
          "metadata": {
            "tags": [],
            "needs_background": "light"
          }
        }
      ]
    },
    {
      "cell_type": "markdown",
      "metadata": {
        "id": "pF2UXYSsjZnf"
      },
      "source": [
        "## Build model\n",
        "\n"
      ]
    },
    {
      "cell_type": "code",
      "metadata": {
        "id": "bje8NRAXjZnf"
      },
      "source": [
        "for parameters in model.parameters():\n",
        "  parameters.requires_grad = False"
      ],
      "execution_count": 13,
      "outputs": []
    },
    {
      "cell_type": "markdown",
      "metadata": {
        "id": "I0zlKXccjZnf"
      },
      "source": [
        "Create the classifier"
      ]
    },
    {
      "cell_type": "code",
      "metadata": {
        "id": "AEBumPtbjZng"
      },
      "source": [
        "BasicConv2d = nn.Sequential(OrderedDict([('conv', nn.Conv2d(2048, 192, kernel_size=(1,1), stride=(1,1))),\n",
        "                                         ('bn', nn.BatchNorm2d(192, eps=0.001, momentum=0.1, affine=True, track_running_stats=True))]))\n",
        "\n",
        "classifier = nn.Sequential(OrderedDict([('fc1', nn.Linear(2048, 512)),\n",
        "                                         ('relu', nn.ReLU()),\n",
        "                                         ('drop', nn.Dropout(0.5)),\n",
        "                                         ('fc2', nn.Linear(512, 3)), \n",
        "                                         ('output', nn.Softmax(dim=1))]))\n",
        "\n",
        "model.Mixed_7c.branch_pool = BasicConv2d\n",
        "model.fc = classifier"
      ],
      "execution_count": 14,
      "outputs": []
    },
    {
      "cell_type": "markdown",
      "metadata": {
        "id": "P699gIPyjZng"
      },
      "source": [
        "## Train classifier\n",
        "### check for GPU"
      ]
    },
    {
      "cell_type": "code",
      "metadata": {
        "colab": {
          "base_uri": "https://localhost:8080/"
        },
        "id": "Wf1-keG7jZng",
        "outputId": "67c13cec-72ef-4fbd-ff04-08c400fe4386"
      },
      "source": [
        "device = torch.device(\"cuda:0\" if torch.cuda.is_available() else \"cpu\")\n",
        "device"
      ],
      "execution_count": 15,
      "outputs": [
        {
          "output_type": "execute_result",
          "data": {
            "text/plain": [
              "device(type='cpu')"
            ]
          },
          "metadata": {
            "tags": []
          },
          "execution_count": 15
        }
      ]
    },
    {
      "cell_type": "markdown",
      "metadata": {
        "id": "MtSuV_3xjZnh"
      },
      "source": [
        "## Accuracy before training"
      ]
    },
    {
      "cell_type": "code",
      "metadata": {
        "colab": {
          "base_uri": "https://localhost:8080/"
        },
        "id": "2w6kktK8jZnh",
        "outputId": "d3a15697-c891-43ff-85f9-a6993c166424"
      },
      "source": [
        "def accuracy(validloader):    \n",
        "    correct = 0\n",
        "    total = 0\n",
        "    with torch.no_grad():\n",
        "        for data in validloader:\n",
        "            images, labels = data\n",
        "            images, labels = images.to(device), labels.to(device) \n",
        "            outputs, aux = model(images)\n",
        "            _, predicted = torch.max(outputs.data, 1)\n",
        "            total += labels.size(0)\n",
        "            correct += (predicted == labels).sum().item()\n",
        "\n",
        "    print('Accuracy of the network %d %%' % (100 * correct / total))\n",
        "\n",
        "model.to(device)\n",
        "accuracy(validloader)"
      ],
      "execution_count": 16,
      "outputs": [
        {
          "output_type": "stream",
          "text": [
            "Accuracy of the network 20 %\n"
          ],
          "name": "stdout"
        }
      ]
    },
    {
      "cell_type": "markdown",
      "metadata": {
        "id": "hcPonG0GjZni"
      },
      "source": [
        "Check how much time will take on a simple batch"
      ]
    },
    {
      "cell_type": "code",
      "metadata": {
        "colab": {
          "base_uri": "https://localhost:8080/"
        },
        "id": "CMkH8ViejZni",
        "outputId": "fe3f5242-6c0b-4dfc-802d-330a56a6d884"
      },
      "source": [
        "criterion = nn.CrossEntropyLoss()\n",
        "optimizer = optim.RMSprop(model.fc.parameters(), lr=0.001)\n",
        "\n",
        "model.to(device)\n",
        "model.train()\n",
        "\n",
        "inputs, labels = next(iter(trainloader))\n",
        "inputs, labels = inputs.to(device), labels.to(device)\n",
        "\n",
        "start = time.time()\n",
        "\n",
        "outputs = model.forward(inputs)\n",
        "# Inception has multiple outputs\n",
        "loss = sum((criterion(out, labels) for out in outputs))\n",
        "loss.backward()\n",
        "optimizer.step()\n",
        "\n",
        "print(f\"Device = GPU; Time per batch: {(time.time() - start):.3f} seconds\")"
      ],
      "execution_count": 17,
      "outputs": [
        {
          "output_type": "stream",
          "text": [
            "Device = GPU; Time per batch: 10.786 seconds\n"
          ],
          "name": "stdout"
        }
      ]
    },
    {
      "cell_type": "markdown",
      "metadata": {
        "id": "Tad7uNgGjZnj"
      },
      "source": [
        "Train classifier"
      ]
    },
    {
      "cell_type": "code",
      "metadata": {
        "colab": {
          "base_uri": "https://localhost:8080/"
        },
        "id": "ifw2WwQHjZnj",
        "outputId": "4b322b18-0bd9-4fd4-b626-27b575c91a43"
      },
      "source": [
        "def validation(model, validloader, criterion):\n",
        "    test_loss = 0\n",
        "    accuracy = 0\n",
        "    for images, labels in validloader:\n",
        "      images, labels = images.to(device), labels.to(device)\n",
        "      outputs = model.forward(images)\n",
        "      test_loss += criterion(outputs, labels).item()\n",
        "      ps = torch.exp(outputs)\n",
        "      equality = (labels.data == ps.max(dim=1)[1])\n",
        "      accuracy += equality.type(torch.FloatTensor).mean()\n",
        "    return test_loss, accuracy\n",
        "  \n",
        "criterion = nn.CrossEntropyLoss()\n",
        "optimizer = optim.RMSprop(model.parameters(), lr=0.0001, momentum=0, weight_decay=1e-5)\n",
        "scheduler = optim.lr_scheduler.StepLR(optimizer, step_size=3, gamma=0.5)\n",
        "\n",
        "model.to(device)\n",
        "\n",
        "running_loss = 0\n",
        "step = 0\n",
        "print_every = 1\n",
        "epochs = 5\n",
        "\n",
        "\n",
        "model.train()\n",
        "for epoch in range(epochs):\n",
        "  scheduler.step()\n",
        "  for inputs, labels in trainloader:\n",
        "    inputs, labels = inputs.to(device), labels.to(device)\n",
        "    step += 1\n",
        "    optimizer.zero_grad()\n",
        "    outputs = model.forward(inputs)\n",
        "    loss = sum((criterion(out, labels) for out in outputs))\n",
        "    loss.backward()\n",
        "    optimizer.step()\n",
        "    running_loss += loss.item()\n",
        "    if step % print_every == 0:\n",
        "      model.eval()\n",
        "      with torch.no_grad():\n",
        "        test_loss, accuracy = validation(model, validloader, criterion)\n",
        "        print(\"Epoch: {}/{}.. \".format(epoch+1,epochs),\n",
        "              \"Training Loss: {:.3f}.. \".format(running_loss/print_every),\n",
        "              \"Validation Loss: {:.3f}.. \".format(test_loss/len(validloader)))\n",
        "      running_loss = 0\n",
        "      model.train()"
      ],
      "execution_count": 18,
      "outputs": [
        {
          "output_type": "stream",
          "text": [
            "/usr/local/lib/python3.6/dist-packages/torch/optim/lr_scheduler.py:136: UserWarning: Detected call of `lr_scheduler.step()` before `optimizer.step()`. In PyTorch 1.1.0 and later, you should call them in the opposite order: `optimizer.step()` before `lr_scheduler.step()`.  Failure to do this will result in PyTorch skipping the first value of the learning rate schedule. See more details at https://pytorch.org/docs/stable/optim.html#how-to-adjust-learning-rate\n",
            "  \"https://pytorch.org/docs/stable/optim.html#how-to-adjust-learning-rate\", UserWarning)\n"
          ],
          "name": "stderr"
        },
        {
          "output_type": "stream",
          "text": [
            "Epoch: 1/5..  Training Loss: 9.254..  Validation Loss: 1.112.. \n",
            "Epoch: 2/5..  Training Loss: 9.165..  Validation Loss: 1.079.. \n",
            "Epoch: 3/5..  Training Loss: 8.922..  Validation Loss: 1.055.. \n",
            "Epoch: 4/5..  Training Loss: 8.940..  Validation Loss: 1.049.. \n",
            "Epoch: 5/5..  Training Loss: 8.842..  Validation Loss: 1.053.. \n"
          ],
          "name": "stdout"
        }
      ]
    },
    {
      "cell_type": "code",
      "metadata": {
        "id": "F7vYmJw4jZnk"
      },
      "source": [
        "torch.save(model.state_dict(), \"/content/drive/MyDrive/Skin-classification/model_inception.pt\")"
      ],
      "execution_count": 19,
      "outputs": []
    },
    {
      "cell_type": "code",
      "metadata": {
        "id": "BF9j0cf8ltMb"
      },
      "source": [
        "torch.save(model.state_dict(), \"/content/drive/MyDrive/Skin-classification/model_inception.h5\")"
      ],
      "execution_count": 20,
      "outputs": []
    },
    {
      "cell_type": "markdown",
      "metadata": {
        "id": "KiFgus_cjZnl"
      },
      "source": [
        "## Evaluate model\n"
      ]
    },
    {
      "cell_type": "markdown",
      "metadata": {
        "id": "SxOpsBcajZnl"
      },
      "source": [
        "Loadthe model"
      ]
    },
    {
      "cell_type": "code",
      "metadata": {
        "colab": {
          "base_uri": "https://localhost:8080/"
        },
        "id": "oyFnP0agjZnm",
        "outputId": "a30fe8f6-ac07-4551-c44a-b9cf9d88d6ed"
      },
      "source": [
        "state_dict = torch.load('/content/drive/MyDrive/Skin-classification/model_inception.pt')\n",
        "model.load_state_dict(state_dict)"
      ],
      "execution_count": 21,
      "outputs": [
        {
          "output_type": "execute_result",
          "data": {
            "text/plain": [
              "<All keys matched successfully>"
            ]
          },
          "metadata": {
            "tags": []
          },
          "execution_count": 21
        }
      ]
    },
    {
      "cell_type": "markdown",
      "metadata": {
        "id": "tdpN7cnsjZnm"
      },
      "source": [
        "### Check accuracy"
      ]
    },
    {
      "cell_type": "code",
      "metadata": {
        "colab": {
          "base_uri": "https://localhost:8080/"
        },
        "id": "b5xS5ALZjZnn",
        "outputId": "8053504d-1b57-4fb7-d46f-4114b58eeed0"
      },
      "source": [
        "model.to(device)"
      ],
      "execution_count": 22,
      "outputs": [
        {
          "output_type": "execute_result",
          "data": {
            "text/plain": [
              "Inception3(\n",
              "  (Conv2d_1a_3x3): BasicConv2d(\n",
              "    (conv): Conv2d(3, 32, kernel_size=(3, 3), stride=(2, 2), bias=False)\n",
              "    (bn): BatchNorm2d(32, eps=0.001, momentum=0.1, affine=True, track_running_stats=True)\n",
              "  )\n",
              "  (Conv2d_2a_3x3): BasicConv2d(\n",
              "    (conv): Conv2d(32, 32, kernel_size=(3, 3), stride=(1, 1), bias=False)\n",
              "    (bn): BatchNorm2d(32, eps=0.001, momentum=0.1, affine=True, track_running_stats=True)\n",
              "  )\n",
              "  (Conv2d_2b_3x3): BasicConv2d(\n",
              "    (conv): Conv2d(32, 64, kernel_size=(3, 3), stride=(1, 1), padding=(1, 1), bias=False)\n",
              "    (bn): BatchNorm2d(64, eps=0.001, momentum=0.1, affine=True, track_running_stats=True)\n",
              "  )\n",
              "  (maxpool1): MaxPool2d(kernel_size=3, stride=2, padding=0, dilation=1, ceil_mode=False)\n",
              "  (Conv2d_3b_1x1): BasicConv2d(\n",
              "    (conv): Conv2d(64, 80, kernel_size=(1, 1), stride=(1, 1), bias=False)\n",
              "    (bn): BatchNorm2d(80, eps=0.001, momentum=0.1, affine=True, track_running_stats=True)\n",
              "  )\n",
              "  (Conv2d_4a_3x3): BasicConv2d(\n",
              "    (conv): Conv2d(80, 192, kernel_size=(3, 3), stride=(1, 1), bias=False)\n",
              "    (bn): BatchNorm2d(192, eps=0.001, momentum=0.1, affine=True, track_running_stats=True)\n",
              "  )\n",
              "  (maxpool2): MaxPool2d(kernel_size=3, stride=2, padding=0, dilation=1, ceil_mode=False)\n",
              "  (Mixed_5b): InceptionA(\n",
              "    (branch1x1): BasicConv2d(\n",
              "      (conv): Conv2d(192, 64, kernel_size=(1, 1), stride=(1, 1), bias=False)\n",
              "      (bn): BatchNorm2d(64, eps=0.001, momentum=0.1, affine=True, track_running_stats=True)\n",
              "    )\n",
              "    (branch5x5_1): BasicConv2d(\n",
              "      (conv): Conv2d(192, 48, kernel_size=(1, 1), stride=(1, 1), bias=False)\n",
              "      (bn): BatchNorm2d(48, eps=0.001, momentum=0.1, affine=True, track_running_stats=True)\n",
              "    )\n",
              "    (branch5x5_2): BasicConv2d(\n",
              "      (conv): Conv2d(48, 64, kernel_size=(5, 5), stride=(1, 1), padding=(2, 2), bias=False)\n",
              "      (bn): BatchNorm2d(64, eps=0.001, momentum=0.1, affine=True, track_running_stats=True)\n",
              "    )\n",
              "    (branch3x3dbl_1): BasicConv2d(\n",
              "      (conv): Conv2d(192, 64, kernel_size=(1, 1), stride=(1, 1), bias=False)\n",
              "      (bn): BatchNorm2d(64, eps=0.001, momentum=0.1, affine=True, track_running_stats=True)\n",
              "    )\n",
              "    (branch3x3dbl_2): BasicConv2d(\n",
              "      (conv): Conv2d(64, 96, kernel_size=(3, 3), stride=(1, 1), padding=(1, 1), bias=False)\n",
              "      (bn): BatchNorm2d(96, eps=0.001, momentum=0.1, affine=True, track_running_stats=True)\n",
              "    )\n",
              "    (branch3x3dbl_3): BasicConv2d(\n",
              "      (conv): Conv2d(96, 96, kernel_size=(3, 3), stride=(1, 1), padding=(1, 1), bias=False)\n",
              "      (bn): BatchNorm2d(96, eps=0.001, momentum=0.1, affine=True, track_running_stats=True)\n",
              "    )\n",
              "    (branch_pool): BasicConv2d(\n",
              "      (conv): Conv2d(192, 32, kernel_size=(1, 1), stride=(1, 1), bias=False)\n",
              "      (bn): BatchNorm2d(32, eps=0.001, momentum=0.1, affine=True, track_running_stats=True)\n",
              "    )\n",
              "  )\n",
              "  (Mixed_5c): InceptionA(\n",
              "    (branch1x1): BasicConv2d(\n",
              "      (conv): Conv2d(256, 64, kernel_size=(1, 1), stride=(1, 1), bias=False)\n",
              "      (bn): BatchNorm2d(64, eps=0.001, momentum=0.1, affine=True, track_running_stats=True)\n",
              "    )\n",
              "    (branch5x5_1): BasicConv2d(\n",
              "      (conv): Conv2d(256, 48, kernel_size=(1, 1), stride=(1, 1), bias=False)\n",
              "      (bn): BatchNorm2d(48, eps=0.001, momentum=0.1, affine=True, track_running_stats=True)\n",
              "    )\n",
              "    (branch5x5_2): BasicConv2d(\n",
              "      (conv): Conv2d(48, 64, kernel_size=(5, 5), stride=(1, 1), padding=(2, 2), bias=False)\n",
              "      (bn): BatchNorm2d(64, eps=0.001, momentum=0.1, affine=True, track_running_stats=True)\n",
              "    )\n",
              "    (branch3x3dbl_1): BasicConv2d(\n",
              "      (conv): Conv2d(256, 64, kernel_size=(1, 1), stride=(1, 1), bias=False)\n",
              "      (bn): BatchNorm2d(64, eps=0.001, momentum=0.1, affine=True, track_running_stats=True)\n",
              "    )\n",
              "    (branch3x3dbl_2): BasicConv2d(\n",
              "      (conv): Conv2d(64, 96, kernel_size=(3, 3), stride=(1, 1), padding=(1, 1), bias=False)\n",
              "      (bn): BatchNorm2d(96, eps=0.001, momentum=0.1, affine=True, track_running_stats=True)\n",
              "    )\n",
              "    (branch3x3dbl_3): BasicConv2d(\n",
              "      (conv): Conv2d(96, 96, kernel_size=(3, 3), stride=(1, 1), padding=(1, 1), bias=False)\n",
              "      (bn): BatchNorm2d(96, eps=0.001, momentum=0.1, affine=True, track_running_stats=True)\n",
              "    )\n",
              "    (branch_pool): BasicConv2d(\n",
              "      (conv): Conv2d(256, 64, kernel_size=(1, 1), stride=(1, 1), bias=False)\n",
              "      (bn): BatchNorm2d(64, eps=0.001, momentum=0.1, affine=True, track_running_stats=True)\n",
              "    )\n",
              "  )\n",
              "  (Mixed_5d): InceptionA(\n",
              "    (branch1x1): BasicConv2d(\n",
              "      (conv): Conv2d(288, 64, kernel_size=(1, 1), stride=(1, 1), bias=False)\n",
              "      (bn): BatchNorm2d(64, eps=0.001, momentum=0.1, affine=True, track_running_stats=True)\n",
              "    )\n",
              "    (branch5x5_1): BasicConv2d(\n",
              "      (conv): Conv2d(288, 48, kernel_size=(1, 1), stride=(1, 1), bias=False)\n",
              "      (bn): BatchNorm2d(48, eps=0.001, momentum=0.1, affine=True, track_running_stats=True)\n",
              "    )\n",
              "    (branch5x5_2): BasicConv2d(\n",
              "      (conv): Conv2d(48, 64, kernel_size=(5, 5), stride=(1, 1), padding=(2, 2), bias=False)\n",
              "      (bn): BatchNorm2d(64, eps=0.001, momentum=0.1, affine=True, track_running_stats=True)\n",
              "    )\n",
              "    (branch3x3dbl_1): BasicConv2d(\n",
              "      (conv): Conv2d(288, 64, kernel_size=(1, 1), stride=(1, 1), bias=False)\n",
              "      (bn): BatchNorm2d(64, eps=0.001, momentum=0.1, affine=True, track_running_stats=True)\n",
              "    )\n",
              "    (branch3x3dbl_2): BasicConv2d(\n",
              "      (conv): Conv2d(64, 96, kernel_size=(3, 3), stride=(1, 1), padding=(1, 1), bias=False)\n",
              "      (bn): BatchNorm2d(96, eps=0.001, momentum=0.1, affine=True, track_running_stats=True)\n",
              "    )\n",
              "    (branch3x3dbl_3): BasicConv2d(\n",
              "      (conv): Conv2d(96, 96, kernel_size=(3, 3), stride=(1, 1), padding=(1, 1), bias=False)\n",
              "      (bn): BatchNorm2d(96, eps=0.001, momentum=0.1, affine=True, track_running_stats=True)\n",
              "    )\n",
              "    (branch_pool): BasicConv2d(\n",
              "      (conv): Conv2d(288, 64, kernel_size=(1, 1), stride=(1, 1), bias=False)\n",
              "      (bn): BatchNorm2d(64, eps=0.001, momentum=0.1, affine=True, track_running_stats=True)\n",
              "    )\n",
              "  )\n",
              "  (Mixed_6a): InceptionB(\n",
              "    (branch3x3): BasicConv2d(\n",
              "      (conv): Conv2d(288, 384, kernel_size=(3, 3), stride=(2, 2), bias=False)\n",
              "      (bn): BatchNorm2d(384, eps=0.001, momentum=0.1, affine=True, track_running_stats=True)\n",
              "    )\n",
              "    (branch3x3dbl_1): BasicConv2d(\n",
              "      (conv): Conv2d(288, 64, kernel_size=(1, 1), stride=(1, 1), bias=False)\n",
              "      (bn): BatchNorm2d(64, eps=0.001, momentum=0.1, affine=True, track_running_stats=True)\n",
              "    )\n",
              "    (branch3x3dbl_2): BasicConv2d(\n",
              "      (conv): Conv2d(64, 96, kernel_size=(3, 3), stride=(1, 1), padding=(1, 1), bias=False)\n",
              "      (bn): BatchNorm2d(96, eps=0.001, momentum=0.1, affine=True, track_running_stats=True)\n",
              "    )\n",
              "    (branch3x3dbl_3): BasicConv2d(\n",
              "      (conv): Conv2d(96, 96, kernel_size=(3, 3), stride=(2, 2), bias=False)\n",
              "      (bn): BatchNorm2d(96, eps=0.001, momentum=0.1, affine=True, track_running_stats=True)\n",
              "    )\n",
              "  )\n",
              "  (Mixed_6b): InceptionC(\n",
              "    (branch1x1): BasicConv2d(\n",
              "      (conv): Conv2d(768, 192, kernel_size=(1, 1), stride=(1, 1), bias=False)\n",
              "      (bn): BatchNorm2d(192, eps=0.001, momentum=0.1, affine=True, track_running_stats=True)\n",
              "    )\n",
              "    (branch7x7_1): BasicConv2d(\n",
              "      (conv): Conv2d(768, 128, kernel_size=(1, 1), stride=(1, 1), bias=False)\n",
              "      (bn): BatchNorm2d(128, eps=0.001, momentum=0.1, affine=True, track_running_stats=True)\n",
              "    )\n",
              "    (branch7x7_2): BasicConv2d(\n",
              "      (conv): Conv2d(128, 128, kernel_size=(1, 7), stride=(1, 1), padding=(0, 3), bias=False)\n",
              "      (bn): BatchNorm2d(128, eps=0.001, momentum=0.1, affine=True, track_running_stats=True)\n",
              "    )\n",
              "    (branch7x7_3): BasicConv2d(\n",
              "      (conv): Conv2d(128, 192, kernel_size=(7, 1), stride=(1, 1), padding=(3, 0), bias=False)\n",
              "      (bn): BatchNorm2d(192, eps=0.001, momentum=0.1, affine=True, track_running_stats=True)\n",
              "    )\n",
              "    (branch7x7dbl_1): BasicConv2d(\n",
              "      (conv): Conv2d(768, 128, kernel_size=(1, 1), stride=(1, 1), bias=False)\n",
              "      (bn): BatchNorm2d(128, eps=0.001, momentum=0.1, affine=True, track_running_stats=True)\n",
              "    )\n",
              "    (branch7x7dbl_2): BasicConv2d(\n",
              "      (conv): Conv2d(128, 128, kernel_size=(7, 1), stride=(1, 1), padding=(3, 0), bias=False)\n",
              "      (bn): BatchNorm2d(128, eps=0.001, momentum=0.1, affine=True, track_running_stats=True)\n",
              "    )\n",
              "    (branch7x7dbl_3): BasicConv2d(\n",
              "      (conv): Conv2d(128, 128, kernel_size=(1, 7), stride=(1, 1), padding=(0, 3), bias=False)\n",
              "      (bn): BatchNorm2d(128, eps=0.001, momentum=0.1, affine=True, track_running_stats=True)\n",
              "    )\n",
              "    (branch7x7dbl_4): BasicConv2d(\n",
              "      (conv): Conv2d(128, 128, kernel_size=(7, 1), stride=(1, 1), padding=(3, 0), bias=False)\n",
              "      (bn): BatchNorm2d(128, eps=0.001, momentum=0.1, affine=True, track_running_stats=True)\n",
              "    )\n",
              "    (branch7x7dbl_5): BasicConv2d(\n",
              "      (conv): Conv2d(128, 192, kernel_size=(1, 7), stride=(1, 1), padding=(0, 3), bias=False)\n",
              "      (bn): BatchNorm2d(192, eps=0.001, momentum=0.1, affine=True, track_running_stats=True)\n",
              "    )\n",
              "    (branch_pool): BasicConv2d(\n",
              "      (conv): Conv2d(768, 192, kernel_size=(1, 1), stride=(1, 1), bias=False)\n",
              "      (bn): BatchNorm2d(192, eps=0.001, momentum=0.1, affine=True, track_running_stats=True)\n",
              "    )\n",
              "  )\n",
              "  (Mixed_6c): InceptionC(\n",
              "    (branch1x1): BasicConv2d(\n",
              "      (conv): Conv2d(768, 192, kernel_size=(1, 1), stride=(1, 1), bias=False)\n",
              "      (bn): BatchNorm2d(192, eps=0.001, momentum=0.1, affine=True, track_running_stats=True)\n",
              "    )\n",
              "    (branch7x7_1): BasicConv2d(\n",
              "      (conv): Conv2d(768, 160, kernel_size=(1, 1), stride=(1, 1), bias=False)\n",
              "      (bn): BatchNorm2d(160, eps=0.001, momentum=0.1, affine=True, track_running_stats=True)\n",
              "    )\n",
              "    (branch7x7_2): BasicConv2d(\n",
              "      (conv): Conv2d(160, 160, kernel_size=(1, 7), stride=(1, 1), padding=(0, 3), bias=False)\n",
              "      (bn): BatchNorm2d(160, eps=0.001, momentum=0.1, affine=True, track_running_stats=True)\n",
              "    )\n",
              "    (branch7x7_3): BasicConv2d(\n",
              "      (conv): Conv2d(160, 192, kernel_size=(7, 1), stride=(1, 1), padding=(3, 0), bias=False)\n",
              "      (bn): BatchNorm2d(192, eps=0.001, momentum=0.1, affine=True, track_running_stats=True)\n",
              "    )\n",
              "    (branch7x7dbl_1): BasicConv2d(\n",
              "      (conv): Conv2d(768, 160, kernel_size=(1, 1), stride=(1, 1), bias=False)\n",
              "      (bn): BatchNorm2d(160, eps=0.001, momentum=0.1, affine=True, track_running_stats=True)\n",
              "    )\n",
              "    (branch7x7dbl_2): BasicConv2d(\n",
              "      (conv): Conv2d(160, 160, kernel_size=(7, 1), stride=(1, 1), padding=(3, 0), bias=False)\n",
              "      (bn): BatchNorm2d(160, eps=0.001, momentum=0.1, affine=True, track_running_stats=True)\n",
              "    )\n",
              "    (branch7x7dbl_3): BasicConv2d(\n",
              "      (conv): Conv2d(160, 160, kernel_size=(1, 7), stride=(1, 1), padding=(0, 3), bias=False)\n",
              "      (bn): BatchNorm2d(160, eps=0.001, momentum=0.1, affine=True, track_running_stats=True)\n",
              "    )\n",
              "    (branch7x7dbl_4): BasicConv2d(\n",
              "      (conv): Conv2d(160, 160, kernel_size=(7, 1), stride=(1, 1), padding=(3, 0), bias=False)\n",
              "      (bn): BatchNorm2d(160, eps=0.001, momentum=0.1, affine=True, track_running_stats=True)\n",
              "    )\n",
              "    (branch7x7dbl_5): BasicConv2d(\n",
              "      (conv): Conv2d(160, 192, kernel_size=(1, 7), stride=(1, 1), padding=(0, 3), bias=False)\n",
              "      (bn): BatchNorm2d(192, eps=0.001, momentum=0.1, affine=True, track_running_stats=True)\n",
              "    )\n",
              "    (branch_pool): BasicConv2d(\n",
              "      (conv): Conv2d(768, 192, kernel_size=(1, 1), stride=(1, 1), bias=False)\n",
              "      (bn): BatchNorm2d(192, eps=0.001, momentum=0.1, affine=True, track_running_stats=True)\n",
              "    )\n",
              "  )\n",
              "  (Mixed_6d): InceptionC(\n",
              "    (branch1x1): BasicConv2d(\n",
              "      (conv): Conv2d(768, 192, kernel_size=(1, 1), stride=(1, 1), bias=False)\n",
              "      (bn): BatchNorm2d(192, eps=0.001, momentum=0.1, affine=True, track_running_stats=True)\n",
              "    )\n",
              "    (branch7x7_1): BasicConv2d(\n",
              "      (conv): Conv2d(768, 160, kernel_size=(1, 1), stride=(1, 1), bias=False)\n",
              "      (bn): BatchNorm2d(160, eps=0.001, momentum=0.1, affine=True, track_running_stats=True)\n",
              "    )\n",
              "    (branch7x7_2): BasicConv2d(\n",
              "      (conv): Conv2d(160, 160, kernel_size=(1, 7), stride=(1, 1), padding=(0, 3), bias=False)\n",
              "      (bn): BatchNorm2d(160, eps=0.001, momentum=0.1, affine=True, track_running_stats=True)\n",
              "    )\n",
              "    (branch7x7_3): BasicConv2d(\n",
              "      (conv): Conv2d(160, 192, kernel_size=(7, 1), stride=(1, 1), padding=(3, 0), bias=False)\n",
              "      (bn): BatchNorm2d(192, eps=0.001, momentum=0.1, affine=True, track_running_stats=True)\n",
              "    )\n",
              "    (branch7x7dbl_1): BasicConv2d(\n",
              "      (conv): Conv2d(768, 160, kernel_size=(1, 1), stride=(1, 1), bias=False)\n",
              "      (bn): BatchNorm2d(160, eps=0.001, momentum=0.1, affine=True, track_running_stats=True)\n",
              "    )\n",
              "    (branch7x7dbl_2): BasicConv2d(\n",
              "      (conv): Conv2d(160, 160, kernel_size=(7, 1), stride=(1, 1), padding=(3, 0), bias=False)\n",
              "      (bn): BatchNorm2d(160, eps=0.001, momentum=0.1, affine=True, track_running_stats=True)\n",
              "    )\n",
              "    (branch7x7dbl_3): BasicConv2d(\n",
              "      (conv): Conv2d(160, 160, kernel_size=(1, 7), stride=(1, 1), padding=(0, 3), bias=False)\n",
              "      (bn): BatchNorm2d(160, eps=0.001, momentum=0.1, affine=True, track_running_stats=True)\n",
              "    )\n",
              "    (branch7x7dbl_4): BasicConv2d(\n",
              "      (conv): Conv2d(160, 160, kernel_size=(7, 1), stride=(1, 1), padding=(3, 0), bias=False)\n",
              "      (bn): BatchNorm2d(160, eps=0.001, momentum=0.1, affine=True, track_running_stats=True)\n",
              "    )\n",
              "    (branch7x7dbl_5): BasicConv2d(\n",
              "      (conv): Conv2d(160, 192, kernel_size=(1, 7), stride=(1, 1), padding=(0, 3), bias=False)\n",
              "      (bn): BatchNorm2d(192, eps=0.001, momentum=0.1, affine=True, track_running_stats=True)\n",
              "    )\n",
              "    (branch_pool): BasicConv2d(\n",
              "      (conv): Conv2d(768, 192, kernel_size=(1, 1), stride=(1, 1), bias=False)\n",
              "      (bn): BatchNorm2d(192, eps=0.001, momentum=0.1, affine=True, track_running_stats=True)\n",
              "    )\n",
              "  )\n",
              "  (Mixed_6e): InceptionC(\n",
              "    (branch1x1): BasicConv2d(\n",
              "      (conv): Conv2d(768, 192, kernel_size=(1, 1), stride=(1, 1), bias=False)\n",
              "      (bn): BatchNorm2d(192, eps=0.001, momentum=0.1, affine=True, track_running_stats=True)\n",
              "    )\n",
              "    (branch7x7_1): BasicConv2d(\n",
              "      (conv): Conv2d(768, 192, kernel_size=(1, 1), stride=(1, 1), bias=False)\n",
              "      (bn): BatchNorm2d(192, eps=0.001, momentum=0.1, affine=True, track_running_stats=True)\n",
              "    )\n",
              "    (branch7x7_2): BasicConv2d(\n",
              "      (conv): Conv2d(192, 192, kernel_size=(1, 7), stride=(1, 1), padding=(0, 3), bias=False)\n",
              "      (bn): BatchNorm2d(192, eps=0.001, momentum=0.1, affine=True, track_running_stats=True)\n",
              "    )\n",
              "    (branch7x7_3): BasicConv2d(\n",
              "      (conv): Conv2d(192, 192, kernel_size=(7, 1), stride=(1, 1), padding=(3, 0), bias=False)\n",
              "      (bn): BatchNorm2d(192, eps=0.001, momentum=0.1, affine=True, track_running_stats=True)\n",
              "    )\n",
              "    (branch7x7dbl_1): BasicConv2d(\n",
              "      (conv): Conv2d(768, 192, kernel_size=(1, 1), stride=(1, 1), bias=False)\n",
              "      (bn): BatchNorm2d(192, eps=0.001, momentum=0.1, affine=True, track_running_stats=True)\n",
              "    )\n",
              "    (branch7x7dbl_2): BasicConv2d(\n",
              "      (conv): Conv2d(192, 192, kernel_size=(7, 1), stride=(1, 1), padding=(3, 0), bias=False)\n",
              "      (bn): BatchNorm2d(192, eps=0.001, momentum=0.1, affine=True, track_running_stats=True)\n",
              "    )\n",
              "    (branch7x7dbl_3): BasicConv2d(\n",
              "      (conv): Conv2d(192, 192, kernel_size=(1, 7), stride=(1, 1), padding=(0, 3), bias=False)\n",
              "      (bn): BatchNorm2d(192, eps=0.001, momentum=0.1, affine=True, track_running_stats=True)\n",
              "    )\n",
              "    (branch7x7dbl_4): BasicConv2d(\n",
              "      (conv): Conv2d(192, 192, kernel_size=(7, 1), stride=(1, 1), padding=(3, 0), bias=False)\n",
              "      (bn): BatchNorm2d(192, eps=0.001, momentum=0.1, affine=True, track_running_stats=True)\n",
              "    )\n",
              "    (branch7x7dbl_5): BasicConv2d(\n",
              "      (conv): Conv2d(192, 192, kernel_size=(1, 7), stride=(1, 1), padding=(0, 3), bias=False)\n",
              "      (bn): BatchNorm2d(192, eps=0.001, momentum=0.1, affine=True, track_running_stats=True)\n",
              "    )\n",
              "    (branch_pool): BasicConv2d(\n",
              "      (conv): Conv2d(768, 192, kernel_size=(1, 1), stride=(1, 1), bias=False)\n",
              "      (bn): BatchNorm2d(192, eps=0.001, momentum=0.1, affine=True, track_running_stats=True)\n",
              "    )\n",
              "  )\n",
              "  (AuxLogits): InceptionAux(\n",
              "    (conv0): BasicConv2d(\n",
              "      (conv): Conv2d(768, 128, kernel_size=(1, 1), stride=(1, 1), bias=False)\n",
              "      (bn): BatchNorm2d(128, eps=0.001, momentum=0.1, affine=True, track_running_stats=True)\n",
              "    )\n",
              "    (conv1): BasicConv2d(\n",
              "      (conv): Conv2d(128, 768, kernel_size=(5, 5), stride=(1, 1), bias=False)\n",
              "      (bn): BatchNorm2d(768, eps=0.001, momentum=0.1, affine=True, track_running_stats=True)\n",
              "    )\n",
              "    (fc): Linear(in_features=768, out_features=1000, bias=True)\n",
              "  )\n",
              "  (Mixed_7a): InceptionD(\n",
              "    (branch3x3_1): BasicConv2d(\n",
              "      (conv): Conv2d(768, 192, kernel_size=(1, 1), stride=(1, 1), bias=False)\n",
              "      (bn): BatchNorm2d(192, eps=0.001, momentum=0.1, affine=True, track_running_stats=True)\n",
              "    )\n",
              "    (branch3x3_2): BasicConv2d(\n",
              "      (conv): Conv2d(192, 320, kernel_size=(3, 3), stride=(2, 2), bias=False)\n",
              "      (bn): BatchNorm2d(320, eps=0.001, momentum=0.1, affine=True, track_running_stats=True)\n",
              "    )\n",
              "    (branch7x7x3_1): BasicConv2d(\n",
              "      (conv): Conv2d(768, 192, kernel_size=(1, 1), stride=(1, 1), bias=False)\n",
              "      (bn): BatchNorm2d(192, eps=0.001, momentum=0.1, affine=True, track_running_stats=True)\n",
              "    )\n",
              "    (branch7x7x3_2): BasicConv2d(\n",
              "      (conv): Conv2d(192, 192, kernel_size=(1, 7), stride=(1, 1), padding=(0, 3), bias=False)\n",
              "      (bn): BatchNorm2d(192, eps=0.001, momentum=0.1, affine=True, track_running_stats=True)\n",
              "    )\n",
              "    (branch7x7x3_3): BasicConv2d(\n",
              "      (conv): Conv2d(192, 192, kernel_size=(7, 1), stride=(1, 1), padding=(3, 0), bias=False)\n",
              "      (bn): BatchNorm2d(192, eps=0.001, momentum=0.1, affine=True, track_running_stats=True)\n",
              "    )\n",
              "    (branch7x7x3_4): BasicConv2d(\n",
              "      (conv): Conv2d(192, 192, kernel_size=(3, 3), stride=(2, 2), bias=False)\n",
              "      (bn): BatchNorm2d(192, eps=0.001, momentum=0.1, affine=True, track_running_stats=True)\n",
              "    )\n",
              "  )\n",
              "  (Mixed_7b): InceptionE(\n",
              "    (branch1x1): BasicConv2d(\n",
              "      (conv): Conv2d(1280, 320, kernel_size=(1, 1), stride=(1, 1), bias=False)\n",
              "      (bn): BatchNorm2d(320, eps=0.001, momentum=0.1, affine=True, track_running_stats=True)\n",
              "    )\n",
              "    (branch3x3_1): BasicConv2d(\n",
              "      (conv): Conv2d(1280, 384, kernel_size=(1, 1), stride=(1, 1), bias=False)\n",
              "      (bn): BatchNorm2d(384, eps=0.001, momentum=0.1, affine=True, track_running_stats=True)\n",
              "    )\n",
              "    (branch3x3_2a): BasicConv2d(\n",
              "      (conv): Conv2d(384, 384, kernel_size=(1, 3), stride=(1, 1), padding=(0, 1), bias=False)\n",
              "      (bn): BatchNorm2d(384, eps=0.001, momentum=0.1, affine=True, track_running_stats=True)\n",
              "    )\n",
              "    (branch3x3_2b): BasicConv2d(\n",
              "      (conv): Conv2d(384, 384, kernel_size=(3, 1), stride=(1, 1), padding=(1, 0), bias=False)\n",
              "      (bn): BatchNorm2d(384, eps=0.001, momentum=0.1, affine=True, track_running_stats=True)\n",
              "    )\n",
              "    (branch3x3dbl_1): BasicConv2d(\n",
              "      (conv): Conv2d(1280, 448, kernel_size=(1, 1), stride=(1, 1), bias=False)\n",
              "      (bn): BatchNorm2d(448, eps=0.001, momentum=0.1, affine=True, track_running_stats=True)\n",
              "    )\n",
              "    (branch3x3dbl_2): BasicConv2d(\n",
              "      (conv): Conv2d(448, 384, kernel_size=(3, 3), stride=(1, 1), padding=(1, 1), bias=False)\n",
              "      (bn): BatchNorm2d(384, eps=0.001, momentum=0.1, affine=True, track_running_stats=True)\n",
              "    )\n",
              "    (branch3x3dbl_3a): BasicConv2d(\n",
              "      (conv): Conv2d(384, 384, kernel_size=(1, 3), stride=(1, 1), padding=(0, 1), bias=False)\n",
              "      (bn): BatchNorm2d(384, eps=0.001, momentum=0.1, affine=True, track_running_stats=True)\n",
              "    )\n",
              "    (branch3x3dbl_3b): BasicConv2d(\n",
              "      (conv): Conv2d(384, 384, kernel_size=(3, 1), stride=(1, 1), padding=(1, 0), bias=False)\n",
              "      (bn): BatchNorm2d(384, eps=0.001, momentum=0.1, affine=True, track_running_stats=True)\n",
              "    )\n",
              "    (branch_pool): BasicConv2d(\n",
              "      (conv): Conv2d(1280, 192, kernel_size=(1, 1), stride=(1, 1), bias=False)\n",
              "      (bn): BatchNorm2d(192, eps=0.001, momentum=0.1, affine=True, track_running_stats=True)\n",
              "    )\n",
              "  )\n",
              "  (Mixed_7c): InceptionE(\n",
              "    (branch1x1): BasicConv2d(\n",
              "      (conv): Conv2d(2048, 320, kernel_size=(1, 1), stride=(1, 1), bias=False)\n",
              "      (bn): BatchNorm2d(320, eps=0.001, momentum=0.1, affine=True, track_running_stats=True)\n",
              "    )\n",
              "    (branch3x3_1): BasicConv2d(\n",
              "      (conv): Conv2d(2048, 384, kernel_size=(1, 1), stride=(1, 1), bias=False)\n",
              "      (bn): BatchNorm2d(384, eps=0.001, momentum=0.1, affine=True, track_running_stats=True)\n",
              "    )\n",
              "    (branch3x3_2a): BasicConv2d(\n",
              "      (conv): Conv2d(384, 384, kernel_size=(1, 3), stride=(1, 1), padding=(0, 1), bias=False)\n",
              "      (bn): BatchNorm2d(384, eps=0.001, momentum=0.1, affine=True, track_running_stats=True)\n",
              "    )\n",
              "    (branch3x3_2b): BasicConv2d(\n",
              "      (conv): Conv2d(384, 384, kernel_size=(3, 1), stride=(1, 1), padding=(1, 0), bias=False)\n",
              "      (bn): BatchNorm2d(384, eps=0.001, momentum=0.1, affine=True, track_running_stats=True)\n",
              "    )\n",
              "    (branch3x3dbl_1): BasicConv2d(\n",
              "      (conv): Conv2d(2048, 448, kernel_size=(1, 1), stride=(1, 1), bias=False)\n",
              "      (bn): BatchNorm2d(448, eps=0.001, momentum=0.1, affine=True, track_running_stats=True)\n",
              "    )\n",
              "    (branch3x3dbl_2): BasicConv2d(\n",
              "      (conv): Conv2d(448, 384, kernel_size=(3, 3), stride=(1, 1), padding=(1, 1), bias=False)\n",
              "      (bn): BatchNorm2d(384, eps=0.001, momentum=0.1, affine=True, track_running_stats=True)\n",
              "    )\n",
              "    (branch3x3dbl_3a): BasicConv2d(\n",
              "      (conv): Conv2d(384, 384, kernel_size=(1, 3), stride=(1, 1), padding=(0, 1), bias=False)\n",
              "      (bn): BatchNorm2d(384, eps=0.001, momentum=0.1, affine=True, track_running_stats=True)\n",
              "    )\n",
              "    (branch3x3dbl_3b): BasicConv2d(\n",
              "      (conv): Conv2d(384, 384, kernel_size=(3, 1), stride=(1, 1), padding=(1, 0), bias=False)\n",
              "      (bn): BatchNorm2d(384, eps=0.001, momentum=0.1, affine=True, track_running_stats=True)\n",
              "    )\n",
              "    (branch_pool): Sequential(\n",
              "      (conv): Conv2d(2048, 192, kernel_size=(1, 1), stride=(1, 1))\n",
              "      (bn): BatchNorm2d(192, eps=0.001, momentum=0.1, affine=True, track_running_stats=True)\n",
              "    )\n",
              "  )\n",
              "  (avgpool): AdaptiveAvgPool2d(output_size=(1, 1))\n",
              "  (dropout): Dropout(p=0.5, inplace=False)\n",
              "  (fc): Sequential(\n",
              "    (fc1): Linear(in_features=2048, out_features=512, bias=True)\n",
              "    (relu): ReLU()\n",
              "    (drop): Dropout(p=0.5, inplace=False)\n",
              "    (fc2): Linear(in_features=512, out_features=3, bias=True)\n",
              "    (output): Softmax(dim=1)\n",
              "  )\n",
              ")"
            ]
          },
          "metadata": {
            "tags": []
          },
          "execution_count": 22
        }
      ]
    },
    {
      "cell_type": "code",
      "metadata": {
        "colab": {
          "base_uri": "https://localhost:8080/"
        },
        "id": "-zqn1LyjjZnn",
        "outputId": "42a7de6a-ef66-48bb-967c-38af0c863440"
      },
      "source": [
        "\n",
        "def check_accuracy_on_test(testloader):    \n",
        "    correct = 0\n",
        "    total = 0\n",
        "    with torch.no_grad():\n",
        "        cont = 1\n",
        "        for data in testloader:\n",
        "            images, labels = data\n",
        "            images, labels = images.to(device), labels.to(device)\n",
        "            cont += 1\n",
        "            outputs = model(images)\n",
        "            _, predicted = torch.max(outputs.data, 1)\n",
        "            total += labels.size(0)\n",
        "            correct += (predicted == labels).sum().item()\n",
        "    return (100*correct/total)\n",
        "\n",
        "model.eval()\n",
        "accuracy = check_accuracy_on_test(testloader)\n",
        "print('Accuracy of the network on the 30 test images: %d %%' % accuracy)"
      ],
      "execution_count": 23,
      "outputs": [
        {
          "output_type": "stream",
          "text": [
            "Accuracy of the network on the 600 test images: 36 %\n"
          ],
          "name": "stdout"
        }
      ]
    },
    {
      "cell_type": "markdown",
      "metadata": {
        "id": "siOiYxJJjZnn"
      },
      "source": [
        "Get predictions"
      ]
    },
    {
      "cell_type": "code",
      "metadata": {
        "colab": {
          "base_uri": "https://localhost:8080/"
        },
        "id": "OR7UeS4XjZno",
        "outputId": "b47fc9c3-e20b-4c69-dc3e-aa74941c968f"
      },
      "source": [
        "testset = np.array(glob(\"/content/drive/MyDrive/Skin-classification/data/test/*/*\"))\n",
        "\n",
        "img_paths = [line.rstrip('\\n') for line in testset]\n",
        "\n",
        "print(len(img_paths))"
      ],
      "execution_count": 32,
      "outputs": [
        {
          "output_type": "stream",
          "text": [
            "30\n"
          ],
          "name": "stdout"
        }
      ]
    },
    {
      "cell_type": "code",
      "metadata": {
        "colab": {
          "base_uri": "https://localhost:8080/"
        },
        "id": "dTR0Bew2jZno",
        "outputId": "d5fc5bfa-95f5-4b6e-f571-204b312459c4"
      },
      "source": [
        "print(img_paths[0])"
      ],
      "execution_count": 33,
      "outputs": [
        {
          "output_type": "stream",
          "text": [
            "/content/drive/MyDrive/Skin-classification/data/test/seborrheic_keratosis/ISIC_0012086.jpg\n"
          ],
          "name": "stdout"
        }
      ]
    },
    {
      "cell_type": "code",
      "metadata": {
        "colab": {
          "base_uri": "https://localhost:8080/"
        },
        "id": "5MdVCSdXjZno",
        "outputId": "ae1c9663-3409-4582-acbd-ffb0ccef6a48"
      },
      "source": [
        "print(\"first five: \", img_paths[:5], \"\\nMiddle five: \", img_paths[300:305], \"\\nLast five: \", img_paths[-5:])"
      ],
      "execution_count": 34,
      "outputs": [
        {
          "output_type": "stream",
          "text": [
            "first five:  ['/content/drive/MyDrive/Skin-classification/data/test/seborrheic_keratosis/ISIC_0012086.jpg', '/content/drive/MyDrive/Skin-classification/data/test/seborrheic_keratosis/ISIC_0012134.jpg', '/content/drive/MyDrive/Skin-classification/data/test/seborrheic_keratosis/ISIC_0012136.jpg', '/content/drive/MyDrive/Skin-classification/data/test/seborrheic_keratosis/ISIC_0012178.jpg', '/content/drive/MyDrive/Skin-classification/data/test/seborrheic_keratosis/ISIC_0012199.jpg'] \n",
            "Middle five:  [] \n",
            "Last five:  ['/content/drive/MyDrive/Skin-classification/data/test/melanoma/ISIC_0012758.jpg', '/content/drive/MyDrive/Skin-classification/data/test/melanoma/ISIC_0012989.jpg', '/content/drive/MyDrive/Skin-classification/data/test/melanoma/ISIC_0013072.jpg', '/content/drive/MyDrive/Skin-classification/data/test/melanoma/ISIC_0013073.jpg', '/content/drive/MyDrive/Skin-classification/data/test/melanoma/ISIC_0013242.jpg']\n"
          ],
          "name": "stdout"
        }
      ]
    },
    {
      "cell_type": "code",
      "metadata": {
        "colab": {
          "base_uri": "https://localhost:8080/"
        },
        "id": "5mUUvCM6jZnp",
        "outputId": "f1bbb5ba-5f32-4011-907f-57336975811f"
      },
      "source": [
        "import numpy as np\n",
        "from PIL import Image\n",
        "\n",
        "def load_image(path):\n",
        "  image = Image.open(path)\n",
        "  image = test_transforms(image)\n",
        "  image = torch.tensor(image, requires_grad=True)\n",
        "  image = image.unsqueeze(0)\n",
        "  return image\n",
        "\n",
        "def get_predictions(img_paths):\n",
        "  \"\"\" Is melanoma? \"\"\"\n",
        "  pred_rank1 = [] # Is melanoma?\n",
        "  pred_rank2 = [] # Is seborrheic?\n",
        "  for img_path in img_paths:\n",
        "    img = load_image(img_path)\n",
        "    #img.to(device)\n",
        "    prediction = model(img)\n",
        "    #img.to(\"cpu\")\n",
        "    pred_rank1.append(float(prediction.data[0][0]))\n",
        "    pred_rank2.append(float(prediction.data[0][2]))\n",
        "  return pred_rank1, pred_rank2\n",
        "\n",
        "model.to(\"cpu\")\n",
        "model.eval()\n",
        "print(\"\")"
      ],
      "execution_count": 35,
      "outputs": [
        {
          "output_type": "stream",
          "text": [
            "\n"
          ],
          "name": "stdout"
        }
      ]
    },
    {
      "cell_type": "code",
      "metadata": {
        "colab": {
          "base_uri": "https://localhost:8080/"
        },
        "id": "36ZAvyAujZnp",
        "outputId": "842f6cf0-af47-4343-c999-1d3da38694cf"
      },
      "source": [
        "\n",
        "task1, task2 = get_predictions(img_paths)"
      ],
      "execution_count": 36,
      "outputs": [
        {
          "output_type": "stream",
          "text": [
            "/usr/local/lib/python3.6/dist-packages/ipykernel_launcher.py:7: UserWarning: To copy construct from a tensor, it is recommended to use sourceTensor.clone().detach() or sourceTensor.clone().detach().requires_grad_(True), rather than torch.tensor(sourceTensor).\n",
            "  import sys\n"
          ],
          "name": "stderr"
        }
      ]
    },
    {
      "cell_type": "code",
      "metadata": {
        "colab": {
          "base_uri": "https://localhost:8080/"
        },
        "id": "05l5ltYSjZnp",
        "outputId": "847e3b8c-907b-401c-daef-01c588d31372"
      },
      "source": [
        "print(\"Task 1 predictions: \", len(task1))\n",
        "print(\"first five predictions (Task 1): \", task1[:5])\n",
        "\n",
        "print(\"Task 2 predictions: \", len(task2))\n",
        "print(\"first five predictions (Task 2): \", task2[:5])"
      ],
      "execution_count": 37,
      "outputs": [
        {
          "output_type": "stream",
          "text": [
            "Task 1 predictions:  30\n",
            "first five predictions (Task 1):  [0.1594855785369873, 0.06660798192024231, 0.15169459581375122, 0.19268710911273956, 0.32011762261390686]\n",
            "Task 2 predictions:  30\n",
            "first five predictions (Task 2):  [0.5616133213043213, 0.8311052322387695, 0.5976186990737915, 0.6088355183601379, 0.49921914935112]\n"
          ],
          "name": "stdout"
        }
      ]
    },
    {
      "cell_type": "code",
      "metadata": {
        "id": "yNk8j3RFjZnq"
      },
      "source": [
        "with open('/content/drive/MyDrive/Skin-classification/results.csv', 'w', newline='') as csvfile:\n",
        "  doc = csv.writer(csvfile)\n",
        "  doc.writerow(['Id', 'task_1', 'task_2'])\n",
        "  for i in range(len(img_paths)):\n",
        "    doc.writerow([img_paths[i], task1[i], task2[i]])"
      ],
      "execution_count": 39,
      "outputs": []
    },
    {
      "cell_type": "markdown",
      "metadata": {
        "id": "t-nmXkR_jZnr"
      },
      "source": [
        "## test on specific image"
      ]
    },
    {
      "cell_type": "code",
      "metadata": {
        "id": "m9qxtAxTjZnr"
      },
      "source": [
        "class_names = [item.replace(\"_\", \" \") for item in test_data.classes]\n",
        "\n",
        "def mole_id(img_path):\n",
        "    # load the image and return the predicted breed\n",
        "    #image_tensor = image_to_tensor(img_path)\n",
        "    \n",
        "    img = Image.open(img_path).convert('RGB')\n",
        "    transformations = transforms.Compose([transforms.Resize(size=224),\n",
        "                                          transforms.CenterCrop((224,224)),\n",
        "                                         transforms.ToTensor(),\n",
        "                                         transforms.Normalize(mean=[0.485, 0.456, 0.406],\n",
        "                                                              std=[0.229, 0.224, 0.225])])\n",
        "    image_tensor = transformations(img)[:3,:,:].unsqueeze(0)\n",
        "    \n",
        "    if use_cuda:\n",
        "        image_tensor = image_tensor.cuda()\n",
        "\n",
        "    # get sample result\n",
        "    result = model(image_tensor)\n",
        "    # convert output probabilities to predicted class\n",
        "    _, preds_tensor = torch.max(result, 1)\n",
        "    pred = np.squeeze(preds_tensor.numpy()) if not use_cuda else np.squeeze(preds_tensor.cpu().numpy())\n",
        "    \n",
        "    return class_names[pred]"
      ],
      "execution_count": 41,
      "outputs": []
    },
    {
      "cell_type": "code",
      "metadata": {
        "colab": {
          "base_uri": "https://localhost:8080/",
          "height": 286
        },
        "id": "mVz848GpjZnr",
        "outputId": "de7b76d3-85fe-4103-9c52-7a967f3a21a7"
      },
      "source": [
        "img_path = \"/content/drive/MyDrive/Skin-classification/data/test/seborrheic_keratosis/ISIC_0012086.jpg\"\n",
        "\n",
        "print(mole_id(img_path))\n",
        "#image = Image.open(img_path)\n",
        "img = Image.open(img_path).convert('RGB')\n",
        "transformations = transforms.Compose([transforms.Resize(size=224), transforms.CenterCrop((224,224))])\n",
        "image = transformations(img)\n",
        "plt.imshow(image)\n",
        "plt.show()"
      ],
      "execution_count": 45,
      "outputs": [
        {
          "output_type": "stream",
          "text": [
            "seborrheic keratosis\n"
          ],
          "name": "stdout"
        },
        {
          "output_type": "display_data",
          "data": {
            "image/png": "[encoded data removed]",
            "text/plain": [
              "<Figure size 432x288 with 1 Axes>"
            ]
          },
          "metadata": {
            "tags": [],
            "needs_background": "light"
          }
        }
      ]
    },
    {
      "cell_type": "code",
      "metadata": {
        "colab": {
          "base_uri": "https://localhost:8080/"
        },
        "id": "HWoQxZfmjZnr",
        "outputId": "8ee91374-3b9d-4b1c-8cdf-14a97cfcb344"
      },
      "source": [
        "testset = np.array(glob(\"/content/drive/MyDrive/Skin-classification/data/test/*/*\"))\n",
        "\n",
        "res = 0\n",
        "x = 0\n",
        "for x in range(len(testset)):\n",
        "    \n",
        "    if mole_id(testset[x]) == \"Melanoma\":\n",
        "        res += 1\n",
        "        \n",
        "print(res)"
      ],
      "execution_count": 46,
      "outputs": [
        {
          "output_type": "stream",
          "text": [
            "0\n"
          ],
          "name": "stdout"
        }
      ]
    },
    {
      "cell_type": "markdown",
      "metadata": {
        "id": "7NeG5_0rnzhe"
      },
      "source": [
        ""
      ]
    },
    {
      "cell_type": "code",
      "metadata": {
        "id": "lmQ3kugJjZns"
      },
      "source": [
        "import os\n",
        "import numpy as np\n",
        "import torch\n",
        "import torch.nn as nn\n",
        "import torch.optim as optim\n",
        "from torchvision import datasets\n",
        "import torchvision.models as models\n",
        "import torchvision.transforms as transforms"
      ],
      "execution_count": 48,
      "outputs": []
    },
    {
      "cell_type": "code",
      "metadata": {
        "id": "IYpn8TYvn7JM"
      },
      "source": [
        "train_transfoms = transforms.Compose([transforms.Resize((299 , 299))\n",
        "                              ,transforms.RandomRotation(degrees = 10)\n",
        "                              ,transforms.RandomHorizontalFlip(p=0.2)\n",
        "                              ,transforms.RandomGrayscale(p=0.2)\n",
        "                              ,transforms.RandomVerticalFlip(p=0.2)\n",
        "                              ,transforms.ToTensor()\n",
        "                              ,transforms.Normalize(mean=[0.485, 0.456, 0.406]\n",
        "                                                   , std=[0.229, 0.224, 0.225])\n",
        "                              ])\n",
        "\n",
        "test_val_transfomrs = transforms.Compose([transforms.Resize((299 , 299))\n",
        "                              ,transforms.ToTensor()\n",
        "                              ,transforms.Normalize(mean=[0.485, 0.456, 0.406]\n",
        "                                                   , std = [0.229, 0.224, 0.225])\n",
        "                              ])\n",
        "\n",
        "batch_size = 4 #About all my little GPU can handle \n",
        "num_workers = 0\n",
        "\n",
        "train_data = datasets.ImageFolder(root=r'/content/drive/MyDrive/Skin-classification/data/train'\n",
        "                                  , transform=train_transfoms)\n",
        "test_data = datasets.ImageFolder(root=r'/content/drive/MyDrive/Skin-classification/data/test'\n",
        "                                 , transform=test_val_transfomrs)\n",
        "valid_data = datasets.ImageFolder(root=r'/content/drive/MyDrive/Skin-classification/data/vaild'\n",
        "                                  , transform=test_val_transfomrs)\n",
        "\n",
        "train_loader = torch.utils.data.DataLoader(train_data, batch_size=batch_size, num_workers=num_workers, shuffle=True)\n",
        "test_loader = torch.utils.data.DataLoader(test_data, batch_size=batch_size, num_workers=num_workers, shuffle=True)\n",
        "valid_loader = torch.utils.data.DataLoader(valid_data, batch_size=batch_size, num_workers=num_workers, shuffle=True)\n",
        "\n",
        "loaders = dict(train=train_loader, test=test_loader, valid=valid_loader)\n"
      ],
      "execution_count": 49,
      "outputs": []
    },
    {
      "cell_type": "code",
      "metadata": {
        "id": "lV_MDfznoFIS"
      },
      "source": [
        "inception_net = models.inception_v3(pretrained=True)\n",
        "\n",
        "# check if CUDA is available\n",
        "use_cuda = torch.cuda.is_available()\n",
        "\n",
        "# move model to GPU if CUDA is available\n",
        "if use_cuda:\n",
        "    inception_net = inception_net.cuda()"
      ],
      "execution_count": 50,
      "outputs": []
    },
    {
      "cell_type": "code",
      "metadata": {
        "id": "gjnGtNx3oQIi"
      },
      "source": [
        "classifier = nn.Sequential(nn.Linear(2048, 512)\n",
        "                           ,nn.ReLU()\n",
        "                           #,nn.Dropout(0.1)\n",
        "                           ,nn.Linear(512, 64)\n",
        "                           ,nn.ReLU()\n",
        "                           #,nn.Dropout(0.1)\n",
        "                           ,nn.Linear(64, 3)\n",
        "                          )\n",
        "inception_net.fc = classifier\n",
        "\n",
        "# Replace layer on aux outputs\n",
        "aux_classifier = nn.Sequential(nn.Linear(768, 64)\n",
        "                               ,nn.ReLU()\n",
        "                               #,nn.Dropout(0.1)\n",
        "                               ,nn.Linear(64, 3)\n",
        "                              )\n",
        "inception_net.AuxLogits.fc = aux_classifier \n",
        "\n",
        "# Transfer to GPU if available\n",
        "if use_cuda:\n",
        "    inception_net = inception_net.to('cuda')\n"
      ],
      "execution_count": 51,
      "outputs": []
    },
    {
      "cell_type": "code",
      "metadata": {
        "colab": {
          "base_uri": "https://localhost:8080/"
        },
        "id": "xWW3NvDBoRlz",
        "outputId": "26911242-892c-4533-dbd4-92b5cfb1246e"
      },
      "source": [
        "inception_net.AuxLogits.fc, inception_net.fc"
      ],
      "execution_count": 52,
      "outputs": [
        {
          "output_type": "execute_result",
          "data": {
            "text/plain": [
              "(Sequential(\n",
              "   (0): Linear(in_features=768, out_features=64, bias=True)\n",
              "   (1): ReLU()\n",
              "   (2): Linear(in_features=64, out_features=3, bias=True)\n",
              " ), Sequential(\n",
              "   (0): Linear(in_features=2048, out_features=512, bias=True)\n",
              "   (1): ReLU()\n",
              "   (2): Linear(in_features=512, out_features=64, bias=True)\n",
              "   (3): ReLU()\n",
              "   (4): Linear(in_features=64, out_features=3, bias=True)\n",
              " ))"
            ]
          },
          "metadata": {
            "tags": []
          },
          "execution_count": 52
        }
      ]
    },
    {
      "cell_type": "code",
      "metadata": {
        "id": "anLqz5X2oUzG"
      },
      "source": [
        "criterion = nn.CrossEntropyLoss()\n",
        "# These values were obtained from here https://arxiv.org/ftp/arxiv/papers/1810/1810.10348.pdf\n",
        "optimizer = optim.SGD(inception_net.parameters(), lr=0.001)\n",
        "#scheduler = optim.lr_scheduler.ExponentialLR(optimizer, gamma = 0.9)"
      ],
      "execution_count": 53,
      "outputs": []
    },
    {
      "cell_type": "code",
      "metadata": {
        "id": "VhQTE5MboXip"
      },
      "source": [
        "def label_accuracy(model, validation_loader, epoch, use_cuda):\n",
        "    model.eval()\n",
        "    correct = 0\n",
        "    total = 0\n",
        "    with torch.no_grad():\n",
        "        for images, targets in validation_loader:\n",
        "            if use_cuda:\n",
        "                images, targets = images.cuda(), targets.cuda()\n",
        "            outputs = model(images)\n",
        "            _, preds = torch.max(outputs.data, 1)\n",
        "            total += targets.size(0)\n",
        "            correct += (preds == targets).sum().item()\n",
        "    print('Accuray test at epoch {}\\tLabel Accuracy : - {} %'.format(epoch, round(correct / total, 2)))"
      ],
      "execution_count": 54,
      "outputs": []
    },
    {
      "cell_type": "code",
      "metadata": {
        "id": "sCSI6o5JoYq0"
      },
      "source": [
        "def train(n_epochs, loaders, model, optimizer, criterion, use_cuda, save_path):\n",
        "    \"\"\"returns trained model\"\"\"\n",
        "    # initialize tracker for minimum validation loss\n",
        "    valid_loss_min = np.Inf \n",
        "    \n",
        "    for epoch in range(1, n_epochs+1):\n",
        "        # initialize variables to monitor training and validation loss\n",
        "        train_loss = 0.0\n",
        "        valid_loss = 0.0\n",
        "        \n",
        "        ###################\n",
        "        # train the model #\n",
        "        ###################\n",
        "        model.train()\n",
        "        for batch_idx, (data, target) in enumerate(loaders['train']):\n",
        "            # move to GPU\n",
        "            if use_cuda:\n",
        "                data, target = data.cuda(), target.cuda()\n",
        "            # clear the accumulated gradients \n",
        "            optimizer.zero_grad()\n",
        "            \n",
        "            # inception net produces two outputs, aux output handles vanishing gradient\n",
        "            outputs, aux_outputs = model(data)\n",
        "            #loss calculation https://discuss.pytorch.org/t/how-to-optimize-inception-model-with-auxiliary-classifiers/7958\n",
        "            loss1 = criterion(outputs, target)\n",
        "            loss2 = criterion(aux_outputs, target)\n",
        "            loss = loss1 + 0.4*loss2 # 0.4 is weight for auxillary classifier\n",
        "            \n",
        "            # gradient of the loss with respect to the parameters\n",
        "            loss.backward()\n",
        "            # perform the parameter update (update the weights)\n",
        "            optimizer.step()\n",
        "            \n",
        "            ## record the average training loss\n",
        "            # train loss - adds current loss to accumulated loss (averaged over batch size)\n",
        "            train_loss = train_loss + ((1 / (batch_idx + 1)) * (loss.data - train_loss))\n",
        "        \n",
        "        ######################    \n",
        "        # validate the model #\n",
        "        ######################\n",
        "        model.eval()\n",
        "        for batch_idx, (data, target) in enumerate(loaders['valid']):\n",
        "            # move to GPU\n",
        "            if use_cuda:\n",
        "                data, target = data.cuda(), target.cuda()\n",
        "            # get prediction\n",
        "            output = model(data)\n",
        "            # calculate the loss\n",
        "            loss = criterion(output, target)\n",
        "            ## update the average validation loss\n",
        "            valid_loss = valid_loss + ((1 / (batch_idx + 1)) * (loss.data - valid_loss))\n",
        "            \n",
        "        # print training/validation statistics \n",
        "        print('Epoch: {} \\tTraining Loss: {:.6f} \\tValidation Loss: {:.6f}'.format(\n",
        "            epoch, \n",
        "            train_loss,\n",
        "            valid_loss\n",
        "            ))\n",
        "        \n",
        "        ## save the model if validation loss has decreased\n",
        "        if valid_loss < valid_loss_min:\n",
        "            print('Validation loss decreased ({:.6f} --> {:.6f}).  Saving model ...'.format(valid_loss_min,valid_loss))\n",
        "            torch.save(model.state_dict(), save_path) #add save path here\n",
        "            valid_loss_min = valid_loss\n",
        "            # get epoch accuracy \n",
        "            #label_accuracy(model, loaders['valid'], epoch, use_cuda)\n",
        "        \n",
        "        # learning rate decay scheduled here if necessary\n",
        "        #scheduler.step()\n",
        "        \n",
        "    return model"
      ],
      "execution_count": 55,
      "outputs": []
    },
    {
      "cell_type": "code",
      "metadata": {
        "colab": {
          "base_uri": "https://localhost:8080/"
        },
        "id": "LQOHwtQEodVn",
        "outputId": "754643c6-ebfd-49d4-dcdd-27a30a798423"
      },
      "source": [
        "trained_model = train(50, loaders, inception_net, optimizer, criterion, use_cuda, save_path='/content/drive/MyDrive/Skin-classification/model_cancer_detection.pt')"
      ],
      "execution_count": 56,
      "outputs": [
        {
          "output_type": "stream",
          "text": [
            "Epoch: 1 \tTraining Loss: 1.513962 \tValidation Loss: 1.089218\n",
            "Validation loss decreased (inf --> 1.089218).  Saving model ...\n",
            "Epoch: 2 \tTraining Loss: 1.532313 \tValidation Loss: 1.096799\n",
            "Epoch: 3 \tTraining Loss: 1.526272 \tValidation Loss: 1.098225\n",
            "Epoch: 4 \tTraining Loss: 1.512008 \tValidation Loss: 1.098737\n",
            "Epoch: 5 \tTraining Loss: 1.527593 \tValidation Loss: 1.100735\n",
            "Epoch: 6 \tTraining Loss: 1.513441 \tValidation Loss: 1.099010\n",
            "Epoch: 7 \tTraining Loss: 1.476145 \tValidation Loss: 1.102120\n",
            "Epoch: 8 \tTraining Loss: 1.512895 \tValidation Loss: 1.098613\n",
            "Epoch: 9 \tTraining Loss: 1.479991 \tValidation Loss: 1.098904\n",
            "Epoch: 10 \tTraining Loss: 1.503314 \tValidation Loss: 1.100129\n",
            "Epoch: 11 \tTraining Loss: 1.474460 \tValidation Loss: 1.099609\n",
            "Epoch: 12 \tTraining Loss: 1.470585 \tValidation Loss: 1.098271\n",
            "Epoch: 13 \tTraining Loss: 1.473969 \tValidation Loss: 1.099883\n",
            "Epoch: 14 \tTraining Loss: 1.440712 \tValidation Loss: 1.099755\n",
            "Epoch: 15 \tTraining Loss: 1.473976 \tValidation Loss: 1.096809\n",
            "Epoch: 16 \tTraining Loss: 1.458126 \tValidation Loss: 1.095063\n",
            "Epoch: 17 \tTraining Loss: 1.456234 \tValidation Loss: 1.095939\n",
            "Epoch: 18 \tTraining Loss: 1.463138 \tValidation Loss: 1.099735\n",
            "Epoch: 19 \tTraining Loss: 1.412215 \tValidation Loss: 1.098720\n",
            "Epoch: 20 \tTraining Loss: 1.408083 \tValidation Loss: 1.096321\n",
            "Epoch: 21 \tTraining Loss: 1.432524 \tValidation Loss: 1.092256\n",
            "Epoch: 22 \tTraining Loss: 1.432422 \tValidation Loss: 1.098225\n",
            "Epoch: 23 \tTraining Loss: 1.421884 \tValidation Loss: 1.093371\n",
            "Epoch: 24 \tTraining Loss: 1.462099 \tValidation Loss: 1.093741\n",
            "Epoch: 25 \tTraining Loss: 1.396149 \tValidation Loss: 1.095380\n",
            "Epoch: 26 \tTraining Loss: 1.402817 \tValidation Loss: 1.093991\n",
            "Epoch: 27 \tTraining Loss: 1.386818 \tValidation Loss: 1.094993\n",
            "Epoch: 28 \tTraining Loss: 1.389601 \tValidation Loss: 1.094933\n",
            "Epoch: 29 \tTraining Loss: 1.407129 \tValidation Loss: 1.097573\n",
            "Epoch: 30 \tTraining Loss: 1.372008 \tValidation Loss: 1.095685\n",
            "Epoch: 31 \tTraining Loss: 1.384151 \tValidation Loss: 1.095506\n",
            "Epoch: 32 \tTraining Loss: 1.374592 \tValidation Loss: 1.093073\n",
            "Epoch: 33 \tTraining Loss: 1.333898 \tValidation Loss: 1.092360\n",
            "Epoch: 34 \tTraining Loss: 1.356318 \tValidation Loss: 1.094537\n",
            "Epoch: 35 \tTraining Loss: 1.376221 \tValidation Loss: 1.093248\n",
            "Epoch: 36 \tTraining Loss: 1.328966 \tValidation Loss: 1.097373\n",
            "Epoch: 37 \tTraining Loss: 1.375068 \tValidation Loss: 1.091665\n",
            "Epoch: 38 \tTraining Loss: 1.392658 \tValidation Loss: 1.091937\n",
            "Epoch: 39 \tTraining Loss: 1.360241 \tValidation Loss: 1.092988\n",
            "Epoch: 40 \tTraining Loss: 1.349383 \tValidation Loss: 1.089085\n",
            "Validation loss decreased (1.089218 --> 1.089085).  Saving model ...\n",
            "Epoch: 41 \tTraining Loss: 1.341380 \tValidation Loss: 1.091863\n",
            "Epoch: 42 \tTraining Loss: 1.385931 \tValidation Loss: 1.090167\n",
            "Epoch: 43 \tTraining Loss: 1.345371 \tValidation Loss: 1.090316\n",
            "Epoch: 44 \tTraining Loss: 1.460306 \tValidation Loss: 1.090507\n",
            "Epoch: 45 \tTraining Loss: 1.345934 \tValidation Loss: 1.091820\n",
            "Epoch: 46 \tTraining Loss: 1.349096 \tValidation Loss: 1.091772\n",
            "Epoch: 47 \tTraining Loss: 1.316520 \tValidation Loss: 1.089431\n",
            "Epoch: 48 \tTraining Loss: 1.408654 \tValidation Loss: 1.091245\n",
            "Epoch: 49 \tTraining Loss: 1.290303 \tValidation Loss: 1.087142\n",
            "Validation loss decreased (1.089085 --> 1.087142).  Saving model ...\n",
            "Epoch: 50 \tTraining Loss: 1.334072 \tValidation Loss: 1.088698\n"
          ],
          "name": "stdout"
        }
      ]
    },
    {
      "cell_type": "code",
      "metadata": {
        "colab": {
          "base_uri": "https://localhost:8080/"
        },
        "id": "Cy2WVXeSuEn4",
        "outputId": "652001d4-1a8a-4da6-e206-122f19ad8756"
      },
      "source": [
        "epoch = 50\n",
        "label_accuracy(trained_model, loaders['valid'], epoch, use_cuda)"
      ],
      "execution_count": 57,
      "outputs": [
        {
          "output_type": "stream",
          "text": [
            "Accuray test at epoch 50\tLabel Accuracy : - 0.47 %\n"
          ],
          "name": "stdout"
        }
      ]
    },
    {
      "cell_type": "code",
      "metadata": {
        "id": "hJN41tgzuHC9"
      },
      "source": [
        ""
      ],
      "execution_count": null,
      "outputs": []
    }
  ]
}